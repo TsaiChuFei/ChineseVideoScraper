{
 "cells": [
  {
   "cell_type": "code",
   "id": "initial_id",
   "metadata": {
    "collapsed": true,
    "ExecuteTime": {
     "end_time": "2025-06-05T17:15:28.279579Z",
     "start_time": "2025-06-05T17:15:27.606373Z"
    }
   },
   "source": "from src.YouTubeClass.youtube_scraper import my_youtube_scraper",
   "outputs": [],
   "execution_count": 2
  },
  {
   "metadata": {
    "ExecuteTime": {
     "end_time": "2025-06-05T17:15:29.226634Z",
     "start_time": "2025-06-05T17:15:28.960818Z"
    }
   },
   "cell_type": "code",
   "source": [
    "url = \"https://youtube.com/playlist?list=PLngFSf6XKRPhtjNMSjb5GQka-7wSO_WvL&si=leooXIiqeJTdC8TR\"\n",
    "youtube = my_youtube_scraper(playlist_url = url)\n",
    "a = youtube.download()"
   ],
   "id": "3cd32bf177117248",
   "outputs": [],
   "execution_count": 3
  },
  {
   "metadata": {
    "ExecuteTime": {
     "end_time": "2025-06-06T03:13:13.463811Z",
     "start_time": "2025-06-06T03:13:11.949316Z"
    }
   },
   "cell_type": "code",
   "source": [
    "for i in a:\n",
    "    print(i.title)"
   ],
   "id": "416a7e7b2d866d0a",
   "outputs": [
    {
     "name": "stdout",
     "output_type": "stream",
     "text": [
      "一起慶祝雙十節：我們的台灣故事\n",
      "台灣最強女鬼陳守娘！背後又是怎樣的故事？ @Mr.希爾\n",
      "【封面故事搶先看】誰讓台灣回收神話幻滅 English Subtitle Available\n"
     ]
    }
   ],
   "execution_count": 9
  }
 ],
 "metadata": {
  "kernelspec": {
   "display_name": "Python 3",
   "language": "python",
   "name": "python3"
  },
  "language_info": {
   "codemirror_mode": {
    "name": "ipython",
    "version": 2
   },
   "file_extension": ".py",
   "mimetype": "text/x-python",
   "name": "python",
   "nbconvert_exporter": "python",
   "pygments_lexer": "ipython2",
   "version": "2.7.6"
  }
 },
 "nbformat": 4,
 "nbformat_minor": 5
}
